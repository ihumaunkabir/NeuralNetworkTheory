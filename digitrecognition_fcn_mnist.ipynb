{
 "cells": [
  {
   "cell_type": "code",
   "execution_count": 8,
   "id": "3f18618f",
   "metadata": {},
   "outputs": [],
   "source": [
    "import numpy as np\n",
    "import matplotlib.pyplot as plt\n",
    "import idx2numpy"
   ]
  },
  {
   "cell_type": "code",
   "execution_count": 9,
   "id": "baa2610b",
   "metadata": {},
   "outputs": [],
   "source": [
    "np.random.seed(7) # To make repeatable\n",
    "LEARNING_RATE = 0.01\n",
    "EPOCHS = 20\n",
    "\n",
    "# Dataset Source: http://yann.lecun.com/exdb/mnist/\n",
    "\n",
    "TRAIN_IMAGE_FILENAME = '../data/mnist/train-images.idx3-ubyte'\n",
    "TRAIN_LABEL_FILENAME = '../data/mnist/train-labels.idx1-ubyte'\n",
    "TEST_IMAGE_FILENAME = '../data/mnist/t10k-images.idx3-ubyte'\n",
    "TEST_LABEL_FILENAME = '../data/mnist/t10k-labels.idx1-ubyte'"
   ]
  },
  {
   "cell_type": "code",
   "execution_count": 10,
   "id": "ab4aa880",
   "metadata": {},
   "outputs": [],
   "source": [
    "# Function to read dataset.\n",
    "def read_mnist():    \n",
    "    train_images = idx2numpy.convert_from_file(TRAIN_IMAGE_FILENAME)\n",
    "    train_labels = idx2numpy.convert_from_file(TRAIN_LABEL_FILENAME)\n",
    "    test_images = idx2numpy.convert_from_file(TEST_IMAGE_FILENAME)\n",
    "    test_labels = idx2numpy.convert_from_file(TEST_LABEL_FILENAME)\n",
    "    \n",
    "    # Reformat and standardize.\n",
    "    x_train = train_images.reshape(60000, 784)\n",
    "    mean = np.mean(x_train)\n",
    "    stddev = np.std(x_train)\n",
    "    x_train = (x_train - mean) / stddev\n",
    "    x_test = test_images.reshape(10000, 784)\n",
    "    x_test = (x_test - mean) / stddev\n",
    "    \n",
    "    # One-hot encoded output.\n",
    "    y_train = np.zeros((60000, 10))\n",
    "    y_test = np.zeros((10000, 10))\n",
    "    for i, y in enumerate(train_labels):\n",
    "        y_train[i][y] = 1\n",
    "    for i, y in enumerate(test_labels):\n",
    "        y_test[i][y] = 1\n",
    "    \n",
    "    return x_train, y_train, x_test, y_test\n",
    "\n",
    "# Read train and test examples.\n",
    "x_train, y_train, x_test, y_test = read_mnist()\n",
    "index_list = list(range(len(x_train))) # Used for random order"
   ]
  },
  {
   "cell_type": "code",
   "execution_count": 11,
   "id": "9cb6ff6d",
   "metadata": {},
   "outputs": [],
   "source": [
    "# Init neurons\n",
    "def layer_w(neuron_count, input_count):\n",
    "    weights = np.zeros((neuron_count, input_count+1))\n",
    "    for i in range(neuron_count):\n",
    "        for j in range(1, (input_count+1)):\n",
    "            weights[i][j] = np.random.uniform(-0.1, 0.1)\n",
    "            \n",
    "    return weights\n",
    "\n",
    "# Declare matrices and vectors representing the neurons.\n",
    "hidden_layer_w = layer_w(25, 784)\n",
    "hidden_layer_y = np.zeros(25)\n",
    "hidden_layer_error = np.zeros(25)\n",
    "output_layer_w = layer_w(10, 25)\n",
    "output_layer_y = np.zeros(10)\n",
    "output_layer_error = np.zeros(10)"
   ]
  },
  {
   "cell_type": "code",
   "execution_count": 12,
   "id": "a7536cd6",
   "metadata": {},
   "outputs": [],
   "source": [
    "# Functions for learning progress\n",
    "chart_x = []\n",
    "chart_y_train = []\n",
    "chart_y_test = []\n",
    "\n",
    "def show_learning(epoch_no, train_acc, test_acc):\n",
    "    global chart_x\n",
    "    global chart_y_train\n",
    "    global chart_y_test\n",
    "    print('epoch no:', epoch_no, ', train_acc: ','%6.4f' % train_acc,', test_acc: ', '%6.4f' % test_acc)\n",
    "    chart_x.append(epoch_no + 1)\n",
    "    chart_y_train.append(1.0 - train_acc)\n",
    "    chart_y_test.append(1.0 - test_acc)\n",
    "    \n",
    "def plot_learning():\n",
    "    plt.plot(chart_x, chart_y_train, 'r-', label='training error')\n",
    "    plt.plot(chart_x, chart_y_test, 'b-', label='test error')\n",
    "    plt.axis([0, len(chart_x), 0.0, 1.0])\n",
    "    plt.xlabel('training epochs')\n",
    "    plt.ylabel('error')\n",
    "    plt.legend()\n",
    "    plt.show()"
   ]
  },
  {
   "cell_type": "code",
   "execution_count": 13,
   "id": "e7c356cd",
   "metadata": {},
   "outputs": [],
   "source": [
    "# Forward Pass and Backward Pass\n",
    "def forward_pass(x):\n",
    "    global hidden_layer_y\n",
    "    global output_layer_y\n",
    "    \n",
    "    # Activation function for hidden layer\n",
    "    for i, w in enumerate(hidden_layer_w):\n",
    "        z = np.dot(w, x)\n",
    "    hidden_layer_y[i] = np.tanh(z)\n",
    "    hidden_output_array = np.concatenate((np.array([1.0]), hidden_layer_y))\n",
    "    \n",
    "    # Activation function for output layer\n",
    "    for i, w in enumerate(output_layer_w):\n",
    "        z = np.dot(w, hidden_output_array)\n",
    "        output_layer_y[i] = 1.0 / (1.0 + np.exp(-z))\n",
    "\n",
    "def backward_pass(y_truth):\n",
    "    global hidden_layer_error\n",
    "    global output_layer_error\n",
    "    \n",
    "    # Backpropagate error for each output neuron\n",
    "    # and create array of all output neuron errors.\n",
    "    for i, y in enumerate(output_layer_y):\n",
    "        error_prime = -(y_truth[i] - y) # Loss derivative\n",
    "        derivative = y * (1.0 - y) # Logistic derivative\n",
    "        output_layer_error[i] = error_prime * derivative\n",
    "        \n",
    "    for i, y in enumerate(hidden_layer_y):\n",
    "        # Create array weights connecting the output of\n",
    "        # hidden neuron i to neurons in the output layer.\n",
    "        error_weights = []\n",
    "        for w in output_layer_w:\n",
    "            error_weights.append(w[i+1])\n",
    "        error_weight_array = np.array(error_weights)\n",
    "        \n",
    "        # Backpropagate error for hidden neuron.\n",
    "        derivative = 1.0 - y**2 # tanh derivative\n",
    "        weighted_error = np.dot(error_weight_array, output_layer_error)\n",
    "        hidden_layer_error[i] = weighted_error * derivative\n",
    "\n",
    "def adjust_weights(x):\n",
    "    global output_layer_w\n",
    "    global hidden_layer_w\n",
    "    for i, error in enumerate(hidden_layer_error):\n",
    "        hidden_layer_w[i] -= (x * LEARNING_RATE * error) # Update all weights\n",
    "    \n",
    "    hidden_output_array = np.concatenate((np.array([1.0]), hidden_layer_y))\n",
    "    for i, error in enumerate(output_layer_error):\n",
    "        output_layer_w[i] -= (hidden_output_array * LEARNING_RATE * error) # Update all weights\n"
   ]
  },
  {
   "cell_type": "code",
   "execution_count": 14,
   "id": "62e0ae79",
   "metadata": {
    "scrolled": true
   },
   "outputs": [
    {
     "name": "stdout",
     "output_type": "stream",
     "text": [
      "epoch no: 0 , train_acc:  0.1114 , test_acc:  0.1028\n",
      "epoch no: 1 , train_acc:  0.1121 , test_acc:  0.1135\n",
      "epoch no: 2 , train_acc:  0.1114 , test_acc:  0.1135\n",
      "epoch no: 3 , train_acc:  0.1121 , test_acc:  0.1135\n",
      "epoch no: 4 , train_acc:  0.1122 , test_acc:  0.1135\n",
      "epoch no: 5 , train_acc:  0.1119 , test_acc:  0.1135\n",
      "epoch no: 6 , train_acc:  0.1120 , test_acc:  0.1135\n",
      "epoch no: 7 , train_acc:  0.1121 , test_acc:  0.1135\n",
      "epoch no: 8 , train_acc:  0.1122 , test_acc:  0.1135\n",
      "epoch no: 9 , train_acc:  0.1119 , test_acc:  0.1135\n",
      "epoch no: 10 , train_acc:  0.1119 , test_acc:  0.1135\n",
      "epoch no: 11 , train_acc:  0.1124 , test_acc:  0.1135\n",
      "epoch no: 12 , train_acc:  0.1123 , test_acc:  0.1135\n",
      "epoch no: 13 , train_acc:  0.1120 , test_acc:  0.1135\n",
      "epoch no: 14 , train_acc:  0.1124 , test_acc:  0.1135\n",
      "epoch no: 15 , train_acc:  0.1118 , test_acc:  0.1135\n",
      "epoch no: 16 , train_acc:  0.1123 , test_acc:  0.1135\n",
      "epoch no: 17 , train_acc:  0.1117 , test_acc:  0.1135\n",
      "epoch no: 18 , train_acc:  0.1123 , test_acc:  0.1135\n",
      "epoch no: 19 , train_acc:  0.1116 , test_acc:  0.1136\n"
     ]
    },
    {
     "data": {
      "image/png": "[encoded data removed]",
      "text/plain": [
       "<Figure size 432x288 with 1 Axes>"
      ]
     },
     "metadata": {
      "needs_background": "light"
     },
     "output_type": "display_data"
    }
   ],
   "source": [
    "# Training for MNIST\n",
    "for i in range(EPOCHS): # Train EPOCHS iterations\n",
    "    \n",
    "    np.random.shuffle(index_list) # Randomize order\n",
    "    correct_training_results = 0\n",
    "    for j in index_list: # Train on all examples\n",
    "        x = np.concatenate((np.array([1.0]), x_train[j]))\n",
    "        forward_pass(x)\n",
    "        if output_layer_y.argmax() == y_train[j].argmax():\n",
    "            correct_training_results += 1\n",
    "        backward_pass(y_train[j])\n",
    "        adjust_weights(x)\n",
    "        \n",
    "    correct_test_results = 0\n",
    "    for j in range(len(x_test)): # Evaluate network\n",
    "        x = np.concatenate((np.array([1.0]), x_test[j]))\n",
    "        forward_pass(x)\n",
    "        if output_layer_y.argmax() == y_test[j].argmax():\n",
    "            correct_test_results += 1\n",
    "    # Show progress.\n",
    "    show_learning(i, correct_training_results / len(x_train), correct_test_results / len(x_test))\n",
    "# Create plot\n",
    "plot_learning() "
   ]
  },
  {
   "cell_type": "code",
   "execution_count": null,
   "id": "c89ffe06",
   "metadata": {},
   "outputs": [],
   "source": []
  }
 ],
 "metadata": {
  "kernelspec": {
   "display_name": "Python 3",
   "language": "python",
   "name": "python3"
  },
  "language_info": {
   "codemirror_mode": {
    "name": "ipython",
    "version": 3
   },
   "file_extension": ".py",
   "mimetype": "text/x-python",
   "name": "python",
   "nbconvert_exporter": "python",
   "pygments_lexer": "ipython3",
   "version": "3.8.8"
  }
 },
 "nbformat": 4,
 "nbformat_minor": 5
}
