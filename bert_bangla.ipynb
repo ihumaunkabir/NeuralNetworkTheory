{
  "nbformat": 4,
  "nbformat_minor": 0,
  "metadata": {
    "colab": {
      "name": "bert_bangla.ipynb",
      "provenance": []
    },
    "kernelspec": {
      "name": "python3",
      "display_name": "Python 3"
    },
    "language_info": {
      "name": "python"
    }
  },
  "cells": [
    {
      "cell_type": "code",
      "source": [
        "!pip install transformers\n",
        "!pip install git+https://github.com/csebuetnlp/normalizer\n",
        "\n",
        "from transformers import AutoModelForPreTraining, AutoTokenizer\n",
        "from normalizer import normalize\n",
        "import torch"
      ],
      "metadata": {
        "id": "e7xNMyCZI2oS"
      },
      "execution_count": null,
      "outputs": []
    },
    {
      "cell_type": "code",
      "source": [
        "model = AutoModelForPreTraining.from_pretrained(\"csebuetnlp/banglabert\")\n",
        "tokenizer = AutoTokenizer.from_pretrained(\"csebuetnlp/banglabert\")"
      ],
      "metadata": {
        "id": "JplY-3ERI54d"
      },
      "execution_count": null,
      "outputs": []
    },
    {
      "cell_type": "code",
      "source": [
        "\n",
        "original_sentence = \"আমি কৃতজ্ঞ কারণ আপনি আমার জন্য অনেক কিছু করেছেন।\"\n",
        "fake_sentence = \"আমি কৃতজ্ঞ করেছেন আপনি আমার জন্য অনেক কিছু করেছেন।\"\n",
        "fake_sentence = normalize(fake_sentence) # this normalization step is required before tokenizing the text\n",
        "\n",
        "fake_tokens = tokenizer.tokenize(fake_sentence)\n",
        "fake_inputs = tokenizer.encode(fake_sentence, return_tensors=\"pt\")\n",
        "discriminator_outputs = model(fake_inputs).logits\n",
        "predictions = torch.round((torch.sign(discriminator_outputs) + 1) / 2)\n",
        "\n",
        "[print(\"%7s\" % token, end=\"\") for token in fake_tokens]\n",
        "print(\"\\n\" + \"-\" * 80)\n",
        "[print(\"%7s\" % int(prediction), end=\"\") for prediction in predictions.squeeze().tolist()[1:-1]]\n",
        "print(\"\\n\" + \"-\" * 80)"
      ],
      "metadata": {
        "colab": {
          "base_uri": "https://localhost:8080/"
        },
        "id": "5fcrKzfvKZxK",
        "outputId": "9f650bd1-c5cb-4637-e093-c0b44d14e5f8"
      },
      "execution_count": null,
      "outputs": [
        {
          "output_type": "stream",
          "name": "stdout",
          "text": [
            "    আমি কৃতজ্ঞ করেছেন   আপনি   আমার   জন্য   অনেক   কিছু করেছেন      ।\n",
            "--------------------------------------------------------------------------------\n",
            "      0      0      1      0      0      0      0      0      0      0\n",
            "--------------------------------------------------------------------------------\n"
          ]
        }
      ]
    }
  ]
}