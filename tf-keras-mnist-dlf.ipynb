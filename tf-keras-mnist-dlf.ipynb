{
 "cells": [
  {
   "cell_type": "code",
   "execution_count": 1,
   "id": "861bdfa7",
   "metadata": {},
   "outputs": [],
   "source": [
    "import tensorflow as tf\n",
    "from tensorflow import keras\n",
    "from tensorflow.keras.utils import to_categorical\n",
    "import numpy as np\n",
    "import logging\n",
    "import os"
   ]
  },
  {
   "cell_type": "code",
   "execution_count": 2,
   "id": "d83148b1",
   "metadata": {},
   "outputs": [],
   "source": [
    "os.environ['TF_CPP_MIN_LOG_LEVEL'] = '2'\n",
    "tf.get_logger().setLevel(logging.ERROR)\n",
    "tf.random.set_seed(7)\n",
    "EPOCHS = 20\n",
    "BATCH_SIZE = 1"
   ]
  },
  {
   "cell_type": "code",
   "execution_count": 3,
   "id": "002077ff",
   "metadata": {},
   "outputs": [],
   "source": [
    "# Load training and test datasets.\n",
    "mnist = keras.datasets.mnist\n",
    "(train_images, train_labels), (test_images, test_labels) = mnist.load_data()\n",
    "\n",
    "# Standardize the data.\n",
    "mean = np.mean(train_images)\n",
    "stddev = np.std(train_images)\n",
    "train_images = (train_images - mean) / stddev\n",
    "test_images = (test_images - mean) / stddev\n",
    "\n",
    "# One-hot encode labels.\n",
    "train_labels = to_categorical(train_labels, num_classes=10)\n",
    "test_labels = to_categorical(test_labels, num_classes=10)"
   ]
  },
  {
   "cell_type": "code",
   "execution_count": 4,
   "id": "d6205d9f",
   "metadata": {},
   "outputs": [],
   "source": [
    "# Creating the network\n",
    "# Object used to initialize weights.\n",
    "initializer = keras.initializers.RandomUniform(minval=-0.1, maxval=0.1)\n",
    "# Create a Sequential model.\n",
    "# 784 inputs.\n",
    "# Two Dense (fully connected) layers with 25 and 10 neurons.\n",
    "# tanh as activation function for hidden layer.\n",
    "# Logistic (sigmoid) as activation function for output layer.\n",
    "model = keras.Sequential([keras.layers.Flatten(input_shape=(28, 28)), keras.layers.Dense(25, activation='tanh', kernel_initializer=initializer, bias_initializer='zeros'), keras.layers.Dense(10, activation='sigmoid', kernel_initializer=initializer, bias_initializer='zeros')])"
   ]
  },
  {
   "cell_type": "code",
   "execution_count": 5,
   "id": "04006db1",
   "metadata": {
    "scrolled": true
   },
   "outputs": [
    {
     "name": "stdout",
     "output_type": "stream",
     "text": [
      "Epoch 1/20\n",
      "60000/60000 - 290s - loss: 0.0493 - accuracy: 0.7168 - val_loss: 0.0242 - val_accuracy: 0.9007\n",
      "Epoch 2/20\n",
      "60000/60000 - 235s - loss: 0.0200 - accuracy: 0.9038 - val_loss: 0.0165 - val_accuracy: 0.9185\n",
      "Epoch 3/20\n",
      "60000/60000 - 389s - loss: 0.0158 - accuracy: 0.9161 - val_loss: 0.0143 - val_accuracy: 0.9238\n",
      "Epoch 4/20\n",
      "60000/60000 - 393s - loss: 0.0141 - accuracy: 0.9230 - val_loss: 0.0132 - val_accuracy: 0.9256\n",
      "Epoch 5/20\n",
      "60000/60000 - 415s - loss: 0.0130 - accuracy: 0.9279 - val_loss: 0.0124 - val_accuracy: 0.9286\n",
      "Epoch 6/20\n",
      "60000/60000 - 398s - loss: 0.0123 - accuracy: 0.9312 - val_loss: 0.0119 - val_accuracy: 0.9317\n",
      "Epoch 7/20\n",
      "60000/60000 - 387s - loss: 0.0117 - accuracy: 0.9340 - val_loss: 0.0115 - val_accuracy: 0.9333\n",
      "Epoch 8/20\n",
      "60000/60000 - 404s - loss: 0.0113 - accuracy: 0.9365 - val_loss: 0.0112 - val_accuracy: 0.9343\n",
      "Epoch 9/20\n",
      "60000/60000 - 367s - loss: 0.0109 - accuracy: 0.9383 - val_loss: 0.0110 - val_accuracy: 0.9370\n",
      "Epoch 10/20\n",
      "60000/60000 - 279s - loss: 0.0105 - accuracy: 0.9401 - val_loss: 0.0108 - val_accuracy: 0.9369\n",
      "Epoch 11/20\n",
      "60000/60000 - 191s - loss: 0.0103 - accuracy: 0.9414 - val_loss: 0.0106 - val_accuracy: 0.9376\n",
      "Epoch 12/20\n",
      "60000/60000 - 136s - loss: 0.0100 - accuracy: 0.9423 - val_loss: 0.0106 - val_accuracy: 0.9373\n",
      "Epoch 13/20\n",
      "60000/60000 - 136s - loss: 0.0098 - accuracy: 0.9438 - val_loss: 0.0103 - val_accuracy: 0.9391\n",
      "Epoch 14/20\n",
      "60000/60000 - 136s - loss: 0.0096 - accuracy: 0.9456 - val_loss: 0.0102 - val_accuracy: 0.9397\n",
      "Epoch 15/20\n",
      "60000/60000 - 135s - loss: 0.0094 - accuracy: 0.9462 - val_loss: 0.0103 - val_accuracy: 0.9396\n",
      "Epoch 16/20\n",
      "60000/60000 - 130s - loss: 0.0092 - accuracy: 0.9469 - val_loss: 0.0099 - val_accuracy: 0.9418\n",
      "Epoch 17/20\n",
      "60000/60000 - 136s - loss: 0.0091 - accuracy: 0.9479 - val_loss: 0.0100 - val_accuracy: 0.9391\n",
      "Epoch 18/20\n",
      "60000/60000 - 171s - loss: 0.0089 - accuracy: 0.9486 - val_loss: 0.0099 - val_accuracy: 0.9425\n",
      "Epoch 19/20\n",
      "60000/60000 - 168s - loss: 0.0088 - accuracy: 0.9495 - val_loss: 0.0100 - val_accuracy: 0.9405\n",
      "Epoch 20/20\n",
      "60000/60000 - 178s - loss: 0.0087 - accuracy: 0.9507 - val_loss: 0.0097 - val_accuracy: 0.9438\n"
     ]
    }
   ],
   "source": [
    "# Training the model\n",
    "# Use stochastic gradient descent (SGD) with\n",
    "# learning rate of 0.01 and no other bells and whistles.\n",
    "# MSE as loss function and report accuracy during training.\n",
    "opt = keras.optimizers.SGD(learning_rate=0.01)\n",
    "model.compile(loss='mean_squared_error', optimizer = opt, metrics =['accuracy'])\n",
    "# Train the model for 20 epochs.\n",
    "# Shuffle (randomize) order.\n",
    "# Update weights after each example (batch_size=1).\n",
    "history = model.fit(train_images, train_labels, validation_data=(test_images, test_labels), epochs=EPOCHS, batch_size=BATCH_SIZE, verbose=2, shuffle=True)"
   ]
  },
  {
   "cell_type": "code",
   "execution_count": null,
   "id": "e2fef770",
   "metadata": {},
   "outputs": [],
   "source": []
  }
 ],
 "metadata": {
  "kernelspec": {
   "display_name": "Python 3",
   "language": "python",
   "name": "python3"
  },
  "language_info": {
   "codemirror_mode": {
    "name": "ipython",
    "version": 3
   },
   "file_extension": ".py",
   "mimetype": "text/x-python",
   "name": "python",
   "nbconvert_exporter": "python",
   "pygments_lexer": "ipython3",
   "version": "3.8.8"
  }
 },
 "nbformat": 4,
 "nbformat_minor": 5
}
