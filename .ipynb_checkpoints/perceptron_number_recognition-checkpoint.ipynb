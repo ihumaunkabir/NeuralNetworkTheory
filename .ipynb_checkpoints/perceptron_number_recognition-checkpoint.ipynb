{
 "cells": [
  {
   "cell_type": "code",
   "execution_count": 2,
   "metadata": {
    "colab": {
     "base_uri": "https://localhost:8080/"
    },
    "executionInfo": {
     "elapsed": 6638,
     "status": "ok",
     "timestamp": 1613942827519,
     "user": {
      "displayName": "Sergey Shchanikov",
      "photoUrl": "",
      "userId": "14298959705495022829"
     },
     "user_tz": -180
    },
    "id": "XcbSgjRNe8WE",
    "outputId": "83fde646-041a-4a97-caaf-bd4b948ebebc"
   },
   "outputs": [
    {
     "name": "stdout",
     "output_type": "stream",
     "text": [
      "Collecting neurolab\n",
      "\u001b[?25l  Downloading https://files.pythonhosted.org/packages/46/fd/47a9a39158b461b6b862d64c0ad7f679b08ed6d316744299f0db89066342/neurolab-0.3.5.tar.gz (645kB)\n",
      "\u001b[K     |████████████████████████████████| 655kB 5.7MB/s \n",
      "\u001b[?25hBuilding wheels for collected packages: neurolab\n",
      "  Building wheel for neurolab (setup.py) ... \u001b[?25l\u001b[?25hdone\n",
      "  Created wheel for neurolab: filename=neurolab-0.3.5-cp36-none-any.whl size=22182 sha256=3b395820d4f53b3bd2eb74491a86b30ce3d986476f0fb62464beae06845b5167\n",
      "  Stored in directory: /root/.cache/pip/wheels/c6/8f/37/32ab1cf4d601dc0bc49d7241012a4292db4b343bebff5b68e6\n",
      "Successfully built neurolab\n",
      "Installing collected packages: neurolab\n",
      "Successfully installed neurolab-0.3.5\n"
     ]
    }
   ],
   "source": [
    "!pip install neurolab"
   ]
  },
  {
   "cell_type": "code",
   "execution_count": 3,
   "metadata": {
    "executionInfo": {
     "elapsed": 949,
     "status": "ok",
     "timestamp": 1613942827526,
     "user": {
      "displayName": "Sergey Shchanikov",
      "photoUrl": "",
      "userId": "14298959705495022829"
     },
     "user_tz": -180
    },
    "id": "CZVTOoQme_Us"
   },
   "outputs": [],
   "source": [
    "%matplotlib inline\n",
    "import neurolab as nl\n",
    "import numpy as np\n",
    "import matplotlib.pyplot as plt\n",
    "params={}\n",
    "params['font.size'] = 16\n",
    "plt.rcParams.update(params)"
   ]
  },
  {
   "cell_type": "code",
   "execution_count": 4,
   "metadata": {
    "executionInfo": {
     "elapsed": 530,
     "status": "ok",
     "timestamp": 1613942841356,
     "user": {
      "displayName": "Sergey Shchanikov",
      "photoUrl": "",
      "userId": "14298959705495022829"
     },
     "user_tz": -180
    },
    "id": "gIZ93i9PfToA"
   },
   "outputs": [],
   "source": [
    "def show_all_numbers():\n",
    "    number_of_subplots = len(inputs)\n",
    "    fig, ax = plt.subplots(nrows=1, ncols=number_of_subplots, sharex=True, sharey=True)\n",
    "    for i in range(number_of_subplots):\n",
    "        ax[i].imshow(np.reshape(inputs[i], (5,3)),cmap='gray')\n",
    "        ax[i].set_yticklabels([])\n",
    "        ax[i].set_xticklabels([])\n",
    "        ax[i].set_xticks([])\n",
    "        ax[i].set_yticks([])\n",
    "    plt.show()\n",
    "\n",
    "def get_number(n):\n",
    "    return np.reshape(inputs[n],(1,len(inputs[n])))\n",
    "\n",
    "def gen_noise(n, plt_flag=0):\n",
    "    number = get_number(n)\n",
    "    number = number + np.random.normal(0, 0.1, number.shape)\n",
    "    if plt_flag != 0:\n",
    "        plt.imshow(np.reshape(number, (5,3)),cmap='gray')\n",
    "        plt.show()\n",
    "    else:\n",
    "        return number"
   ]
  },
  {
   "cell_type": "code",
   "execution_count": 6,
   "metadata": {
    "colab": {
     "base_uri": "https://localhost:8080/",
     "height": 82
    },
    "executionInfo": {
     "elapsed": 816,
     "status": "ok",
     "timestamp": 1613942903842,
     "user": {
      "displayName": "Sergey Shchanikov",
      "photoUrl": "",
      "userId": "14298959705495022829"
     },
     "user_tz": -180
    },
    "id": "y80CvsbAfYgO",
    "outputId": "c80a2711-babf-4fe6-b6cb-6bf953a08f39"
   },
   "outputs": [
    {
     "data": {
      "image/png": "[encoded data removed]",
      "text/plain": [
       "<Figure size 432x288 with 10 Axes>"
      ]
     },
     "metadata": {
      "tags": []
     },
     "output_type": "display_data"
    }
   ],
   "source": [
    "# create a training set for our ANN\n",
    "inputs = np.array([\n",
    "    [1,1,1,1,0,1,1,0,1,1,0,1,1,1,1],\n",
    "    [0,0,1,0,0,1,0,0,1,0,0,1,0,0,1],\n",
    "    [1,1,1,0,0,1,1,1,1,1,0,0,1,1,1],\n",
    "    [1,1,1,0,0,1,1,1,1,0,0,1,1,1,1],\n",
    "    [1,0,1,1,0,1,1,1,1,0,0,1,0,0,1],\n",
    "    [1,1,1,1,0,0,1,1,1,0,0,1,1,1,1],\n",
    "    [1,1,1,1,0,0,1,1,1,1,0,1,1,1,1],\n",
    "    [1,1,1,0,0,1,0,0,1,0,0,1,0,0,1],\n",
    "    [1,1,1,1,0,1,1,1,1,1,0,1,1,1,1],\n",
    "    [1,1,1,1,0,1,1,1,1,0,0,1,1,1,1]])\n",
    "\n",
    "targets = np.eye(10,10)\n",
    "show_all_numbers()"
   ]
  },
  {
   "cell_type": "code",
   "execution_count": 7,
   "metadata": {
    "colab": {
     "base_uri": "https://localhost:8080/",
     "height": 1000
    },
    "executionInfo": {
     "elapsed": 897,
     "status": "ok",
     "timestamp": 1613942918805,
     "user": {
      "displayName": "Sergey Shchanikov",
      "photoUrl": "",
      "userId": "14298959705495022829"
     },
     "user_tz": -180
    },
    "id": "_TivLYRefmlj",
    "outputId": "e03bdcab-3183-4c89-a2a8-1304c075b365"
   },
   "outputs": [
    {
     "name": "stdout",
     "output_type": "stream",
     "text": [
      "Epoch: 1; Error: 5.0;\n",
      "Epoch: 2; Error: 9.0;\n",
      "Epoch: 3; Error: 6.0;\n",
      "Epoch: 4; Error: 7.0;\n",
      "Epoch: 5; Error: 6.0;\n",
      "Epoch: 6; Error: 5.5;\n",
      "Epoch: 7; Error: 4.5;\n",
      "Epoch: 8; Error: 4.5;\n",
      "Epoch: 9; Error: 4.0;\n",
      "Epoch: 10; Error: 4.5;\n",
      "Epoch: 11; Error: 2.5;\n",
      "Epoch: 12; Error: 2.5;\n",
      "Epoch: 13; Error: 4.5;\n",
      "Epoch: 14; Error: 5.0;\n",
      "Epoch: 15; Error: 5.0;\n",
      "Epoch: 16; Error: 5.0;\n",
      "Epoch: 17; Error: 5.5;\n",
      "Epoch: 18; Error: 5.0;\n",
      "Epoch: 19; Error: 3.5;\n",
      "Epoch: 20; Error: 2.5;\n",
      "Epoch: 21; Error: 2.5;\n",
      "Epoch: 22; Error: 2.5;\n",
      "Epoch: 23; Error: 3.0;\n",
      "Epoch: 24; Error: 4.0;\n",
      "Epoch: 25; Error: 4.0;\n",
      "Epoch: 26; Error: 4.0;\n",
      "Epoch: 27; Error: 3.5;\n",
      "Epoch: 28; Error: 4.0;\n",
      "Epoch: 29; Error: 1.5;\n",
      "Epoch: 30; Error: 1.5;\n",
      "Epoch: 31; Error: 2.5;\n",
      "Epoch: 32; Error: 1.0;\n",
      "Epoch: 33; Error: 1.0;\n",
      "Epoch: 34; Error: 0.5;\n",
      "Epoch: 35; Error: 1.0;\n",
      "Epoch: 36; Error: 1.0;\n",
      "Epoch: 37; Error: 1.5;\n",
      "Epoch: 38; Error: 2.0;\n",
      "Epoch: 39; Error: 0.5;\n",
      "Epoch: 40; Error: 0.5;\n",
      "Epoch: 41; Error: 0.5;\n",
      "Epoch: 42; Error: 0.5;\n",
      "Epoch: 43; Error: 0.5;\n",
      "Epoch: 44; Error: 0.5;\n",
      "Epoch: 45; Error: 0.5;\n",
      "Epoch: 46; Error: 0.5;\n",
      "Epoch: 47; Error: 1.0;\n",
      "Epoch: 48; Error: 2.0;\n",
      "Epoch: 49; Error: 2.0;\n",
      "Epoch: 50; Error: 2.0;\n",
      "Epoch: 51; Error: 0.0;\n",
      "The goal of learning is reached\n"
     ]
    },
    {
     "data": {
      "image/png": "[encoded data removed]",
      "text/plain": [
       "<Figure size 432x288 with 1 Axes>"
      ]
     },
     "metadata": {
      "needs_background": "light",
      "tags": []
     },
     "output_type": "display_data"
    }
   ],
   "source": [
    "# create a single layer with 1 neuron, which has 2 inputs\n",
    "minmax = [[inputs.min(), inputs.max()] for i in range(inputs.shape[1])]\n",
    "cn = targets.shape[1]\n",
    "network = nl.net.newp(minmax, cn, transf=nl.trans.HardLim())\n",
    "\n",
    "# train the ANN with the delta rule\n",
    "error = network.train(inputs, targets, epochs=100, show=1, goal=0.01, lr=0.1)\n",
    "plt.plot(error)\n",
    "plt.xlabel('epoch')\n",
    "plt.ylabel('error')\n",
    "plt.tight_layout()\n",
    "plt.show()"
   ]
  },
  {
   "cell_type": "code",
   "execution_count": 8,
   "metadata": {
    "colab": {
     "base_uri": "https://localhost:8080/"
    },
    "executionInfo": {
     "elapsed": 504,
     "status": "ok",
     "timestamp": 1613942931251,
     "user": {
      "displayName": "Sergey Shchanikov",
      "photoUrl": "",
      "userId": "14298959705495022829"
     },
     "user_tz": -180
    },
    "id": "K6iu8Mhxfpz5",
    "outputId": "066a7bb8-40b8-4757-9cdf-0cdb71f1008a"
   },
   "outputs": [
    {
     "name": "stdout",
     "output_type": "stream",
     "text": [
      "Outputs:\n",
      " [[1. 0. 0. 0. 0. 0. 0. 0. 0. 0.]\n",
      " [0. 1. 0. 0. 0. 0. 0. 0. 0. 0.]\n",
      " [0. 0. 1. 0. 0. 0. 0. 0. 0. 0.]\n",
      " [0. 0. 0. 1. 0. 0. 0. 0. 0. 0.]\n",
      " [0. 0. 0. 0. 1. 0. 0. 0. 0. 0.]\n",
      " [0. 0. 0. 0. 0. 1. 0. 0. 0. 0.]\n",
      " [0. 0. 0. 0. 0. 0. 1. 0. 0. 0.]\n",
      " [0. 0. 0. 0. 0. 0. 0. 1. 0. 0.]\n",
      " [0. 0. 0. 0. 0. 0. 0. 0. 1. 0.]\n",
      " [0. 0. 0. 0. 0. 0. 0. 0. 0. 1.]]\n"
     ]
    }
   ],
   "source": [
    "# simulate ANN's operation\n",
    "outputs = network.sim(inputs)\n",
    "print('Outputs:\\n',outputs)"
   ]
  },
  {
   "cell_type": "code",
   "execution_count": 9,
   "metadata": {
    "colab": {
     "base_uri": "https://localhost:8080/",
     "height": 1000
    },
    "executionInfo": {
     "elapsed": 1078,
     "status": "ok",
     "timestamp": 1613942953900,
     "user": {
      "displayName": "Sergey Shchanikov",
      "photoUrl": "",
      "userId": "14298959705495022829"
     },
     "user_tz": -180
    },
    "id": "pMegYaS5fscM",
    "outputId": "28f1be9f-bd0c-4ab9-b05c-ad9997df32b1"
   },
   "outputs": [
    {
     "data": {
      "image/png": "[encoded data removed]",
      "text/plain": [
       "<Figure size 432x288 with 1 Axes>"
      ]
     },
     "metadata": {
      "needs_background": "light",
      "tags": []
     },
     "output_type": "display_data"
    },
    {
     "data": {
      "image/png": "[encoded data removed]",
      "text/plain": [
       "<Figure size 432x288 with 1 Axes>"
      ]
     },
     "metadata": {
      "needs_background": "light",
      "tags": []
     },
     "output_type": "display_data"
    },
    {
     "data": {
      "image/png": "[encoded data removed]",
      "text/plain": [
       "<Figure size 432x288 with 1 Axes>"
      ]
     },
     "metadata": {
      "needs_background": "light",
      "tags": []
     },
     "output_type": "display_data"
    },
    {
     "data": {
      "image/png": "[encoded data removed]",
      "text/plain": [
       "<Figure size 432x288 with 1 Axes>"
      ]
     },
     "metadata": {
      "needs_background": "light",
      "tags": []
     },
     "output_type": "display_data"
    },
    {
     "data": {
      "image/png": "[encoded data removed]",
      "text/plain": [
       "<Figure size 432x288 with 1 Axes>"
      ]
     },
     "metadata": {
      "needs_background": "light",
      "tags": []
     },
     "output_type": "display_data"
    }
   ],
   "source": [
    "# add noise to the inputs\n",
    "check_number = 1\n",
    "for i in range(5):\n",
    "    gen_noise(check_number, 1)"
   ]
  },
  {
   "cell_type": "code",
   "execution_count": 10,
   "metadata": {
    "colab": {
     "base_uri": "https://localhost:8080/"
    },
    "executionInfo": {
     "elapsed": 675,
     "status": "ok",
     "timestamp": 1613942963080,
     "user": {
      "displayName": "Sergey Shchanikov",
      "photoUrl": "",
      "userId": "14298959705495022829"
     },
     "user_tz": -180
    },
    "id": "9K5_9j06fyQw",
    "outputId": "c4cc921d-6684-4382-8453-1c51565500fc"
   },
   "outputs": [
    {
     "name": "stdout",
     "output_type": "stream",
     "text": [
      "ANN operation for an input equal to 1...\n",
      "[0. 1. 0. 0. 0. 0. 0. 0. 0. 0.]\n",
      "[0. 1. 0. 0. 0. 0. 0. 0. 0. 0.]\n",
      "[0. 1. 0. 0. 0. 0. 0. 1. 0. 0.]\n",
      "[0. 1. 0. 0. 0. 0. 0. 1. 0. 0.]\n",
      "[0. 1. 0. 0. 0. 0. 0. 0. 0. 0.]\n",
      "[0. 1. 0. 0. 0. 0. 0. 0. 0. 0.]\n",
      "[0. 1. 0. 0. 0. 0. 0. 1. 0. 0.]\n",
      "[0. 1. 0. 0. 0. 0. 0. 0. 0. 0.]\n",
      "[0. 1. 0. 0. 0. 0. 0. 0. 0. 0.]\n",
      "[0. 1. 0. 0. 0. 0. 0. 0. 0. 0.]\n"
     ]
    }
   ],
   "source": [
    "# several neurons can fire when the inputs are noised\n",
    "print(f'ANN operation for an input equal to {check_number}...')\n",
    "for i in range(10):\n",
    "    print(network.sim(gen_noise(check_number))[0])\n",
    "\n",
    "# saving ANN\n",
    "fname = 'my_net.net'\n",
    "network.save(fname)\n",
    "\n",
    "# for loading use network = nl.load(fname)"
   ]
  }
 ],
 "metadata": {
  "colab": {
   "authorship_tag": "ABX9TyPjQRXyooQMpOJeuMxxZFq7",
   "collapsed_sections": [],
   "name": "Untitled0.ipynb",
   "provenance": []
  },
  "kernelspec": {
   "display_name": "Python 3",
   "language": "python",
   "name": "python3"
  },
  "language_info": {
   "codemirror_mode": {
    "name": "ipython",
    "version": 3
   },
   "file_extension": ".py",
   "mimetype": "text/x-python",
   "name": "python",
   "nbconvert_exporter": "python",
   "pygments_lexer": "ipython3",
   "version": "3.8.8"
  }
 },
 "nbformat": 4,
 "nbformat_minor": 1
}
