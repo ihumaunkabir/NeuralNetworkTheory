{
 "cells": [
  {
   "cell_type": "code",
   "execution_count": 1,
   "id": "f3f1bda2",
   "metadata": {},
   "outputs": [],
   "source": [
    "import numpy as np\n",
    "from tensorflow.keras.applications import resnet50\n",
    "from tensorflow.keras.preprocessing.image import load_img\n",
    "from tensorflow.keras.preprocessing.image import img_to_array\n",
    "from tensorflow.keras.applications.resnet50 import decode_predictions\n",
    "import matplotlib.pyplot as plt\n",
    "import tensorflow as tf\n",
    "import logging\n",
    "tf.get_logger().setLevel(logging.ERROR)"
   ]
  },
  {
   "cell_type": "code",
   "execution_count": 2,
   "id": "9e8ce9d0",
   "metadata": {},
   "outputs": [],
   "source": [
    "# Load image and convert to 4-dimensional tensor.\n",
    "image = load_img('../data/dog.jpg', target_size=(224, 224))\n",
    "image_np = img_to_array(image)\n",
    "image_np = np.expand_dims(image_np, axis=0)"
   ]
  },
  {
   "cell_type": "code",
   "execution_count": null,
   "id": "b59de823",
   "metadata": {},
   "outputs": [
    {
     "name": "stdout",
     "output_type": "stream",
     "text": [
      "Downloading data from https://storage.googleapis.com/tensorflow/keras-applications/resnet/resnet50_weights_tf_dim_ordering_tf_kernels.h5\n",
      "102973440/102967424 [==============================] - 74s 1us/step\n"
     ]
    }
   ],
   "source": [
    "# Load the pretrained model.\n",
    "model = resnet50.ResNet50(weights='imagenet')\n",
    "\n",
    "# Standardize input data.\n",
    "X = resnet50.preprocess_input(image_np.copy())\n",
    "\n",
    "# Do prediction.\n",
    "y = model.predict(X)\n",
    "predicted_labels = decode_predictions(y)\n",
    "print('predictions = ', predicted_labels)\n",
    "\n",
    "# Show image.\n",
    "plt.imshow(np.uint8(image_np[0]))\n",
    "plt.show()"
   ]
  },
  {
   "cell_type": "code",
   "execution_count": null,
   "id": "34b34c52",
   "metadata": {},
   "outputs": [],
   "source": []
  }
 ],
 "metadata": {
  "kernelspec": {
   "display_name": "Python 3",
   "language": "python",
   "name": "python3"
  },
  "language_info": {
   "codemirror_mode": {
    "name": "ipython",
    "version": 3
   },
   "file_extension": ".py",
   "mimetype": "text/x-python",
   "name": "python",
   "nbconvert_exporter": "python",
   "pygments_lexer": "ipython3",
   "version": "3.8.8"
  }
 },
 "nbformat": 4,
 "nbformat_minor": 5
}
