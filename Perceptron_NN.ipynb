{
 "cells": [
  {
   "cell_type": "code",
   "execution_count": 1,
   "id": "4e07abae",
   "metadata": {},
   "outputs": [],
   "source": [
    "import numpy as np\n",
    "import matplotlib.pyplot as plt\n",
    "from sklearn.datasets import make_classification"
   ]
  },
  {
   "cell_type": "code",
   "execution_count": 2,
   "id": "7ad35dcf",
   "metadata": {},
   "outputs": [],
   "source": [
    "class Perceptron:    \n",
    "    def fit(self, X, y, n_iter=100):\n",
    "        \n",
    "        n_samples = X.shape[0]\n",
    "        n_features = X.shape[1]\n",
    "        \n",
    "        # Add 1 for the bias term\n",
    "        self.weights = np.zeros((n_features+1,))\n",
    "        \n",
    "        # Add column of 1s\n",
    "        X = np.concatenate([X, np.ones((n_samples, 1))], axis=1)\n",
    "        \n",
    "        for i in range(n_iter):\n",
    "            for j in range(n_samples):\n",
    "                if y[j]*np.dot(self.weights, X[j, :]) <= 0:\n",
    "                    self.weights += y[j]*X[j, :]\n",
    "                    \n",
    "    \n",
    "    def predict(self, X):\n",
    "        if not hasattr(self, 'weights'):\n",
    "            print('The model is not trained yet!')\n",
    "            return\n",
    "        \n",
    "        n_samples = X.shape[0]\n",
    "        # Add column of 1s\n",
    "        X = np.concatenate([X, np.ones((n_samples, 1))], axis=1)\n",
    "        y = np.matmul(X, self.weights)\n",
    "        y = np.vectorize(lambda val: 1 if val > 0 else -1)(y)\n",
    "        \n",
    "        return y\n",
    "    \n",
    "    def score(self, X, y):\n",
    "        pred_y = self.predict(X)\n",
    "        \n",
    "        return np.mean(y == pred_y)\n",
    "    \n",
    "    def plot(self, X, y):\n",
    "        x1 = X[:, 0]\n",
    "        x2 = X[:, 1]\n",
    "        color = ['red' if value == 1 else 'blue' for value in y]\n",
    "        plt.scatter(x1, x2, marker='o', color=color)\n",
    "        plt.xlabel('X1 input feature')\n",
    "        plt.ylabel('X2 input feature')\n",
    "        plt.title('Perceptron')\n",
    "        plt.show()"
   ]
  },
  {
   "cell_type": "code",
   "execution_count": 3,
   "id": "122f5009",
   "metadata": {},
   "outputs": [],
   "source": [
    "X, y = make_classification(\n",
    "    n_features=2,\n",
    "    n_classes=2,\n",
    "    n_samples=100,\n",
    "    n_redundant=0,\n",
    "    n_clusters_per_class=1\n",
    ")"
   ]
  },
  {
   "cell_type": "code",
   "execution_count": 4,
   "id": "44bbf7a4",
   "metadata": {},
   "outputs": [
    {
     "name": "stdout",
     "output_type": "stream",
     "text": [
      "0.5\n"
     ]
    },
    {
     "data": {
      "image/png": "[encoded data removed]",
      "text/plain": [
       "<Figure size 432x288 with 1 Axes>"
      ]
     },
     "metadata": {
      "needs_background": "light"
     },
     "output_type": "display_data"
    }
   ],
   "source": [
    "pred = Perceptron()\n",
    "pred.fit(X, y)\n",
    "pred.predict(X)\n",
    "print(pred.score(X, y))\n",
    "pred.plot(X, y)"
   ]
  },
  {
   "cell_type": "code",
   "execution_count": null,
   "id": "91846a9f",
   "metadata": {},
   "outputs": [],
   "source": []
  },
  {
   "cell_type": "code",
   "execution_count": null,
   "id": "b05c2fe4",
   "metadata": {},
   "outputs": [],
   "source": []
  }
 ],
 "metadata": {
  "kernelspec": {
   "display_name": "Python 3",
   "language": "python",
   "name": "python3"
  },
  "language_info": {
   "codemirror_mode": {
    "name": "ipython",
    "version": 3
   },
   "file_extension": ".py",
   "mimetype": "text/x-python",
   "name": "python",
   "nbconvert_exporter": "python",
   "pygments_lexer": "ipython3",
   "version": "3.8.8"
  }
 },
 "nbformat": 4,
 "nbformat_minor": 5
}
